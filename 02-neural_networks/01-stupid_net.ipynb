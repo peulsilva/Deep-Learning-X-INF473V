{
 "cells": [
  {
   "cell_type": "code",
   "execution_count": 42,
   "metadata": {},
   "outputs": [],
   "source": [
    "import torch\n",
    "from torch.utils.data import DataLoader\n",
    "from torchvision import datasets\n",
    "from torchvision import transforms\n",
    "import matplotlib.pyplot as plt\n",
    "import numpy as np\n",
    "from tqdm import tqdm"
   ]
  },
  {
   "cell_type": "code",
   "execution_count": 2,
   "metadata": {},
   "outputs": [],
   "source": [
    "training_data = datasets\\\n",
    "    .FashionMNIST(\".\",\n",
    "                  download=True,\n",
    "                  train=True,)\n",
    "test_data = datasets\\\n",
    "    .FashionMNIST(\".\",\n",
    "                  download=True,\n",
    "                  train=False,)"
   ]
  },
  {
   "attachments": {},
   "cell_type": "markdown",
   "metadata": {},
   "source": [
    "**Question 1.** The previous instruction needs to return `torch.Tensor`, to do this, you will add the transform argument in the FashionMNIST function. You can find different transforms in the torchvision documentation. You can define your own tranforms using Lambda."
   ]
  },
  {
   "cell_type": "code",
   "execution_count": 3,
   "metadata": {},
   "outputs": [],
   "source": [
    "training_data = datasets\\\n",
    "    .FashionMNIST(\".\",\n",
    "                  download=True,\n",
    "                  train=True,\n",
    "                  transform=transforms.ToTensor())\n",
    "test_data = datasets\\\n",
    "    .FashionMNIST(\".\",\n",
    "                  download=True,\n",
    "                  train=False,\n",
    "                  transform=transforms.ToTensor())"
   ]
  },
  {
   "cell_type": "code",
   "execution_count": 4,
   "metadata": {},
   "outputs": [
    {
     "data": {
      "text/plain": [
       "torch.Tensor"
      ]
     },
     "execution_count": 4,
     "metadata": {},
     "output_type": "execute_result"
    }
   ],
   "source": [
    "type(training_data[1][0])"
   ]
  },
  {
   "attachments": {},
   "cell_type": "markdown",
   "metadata": {},
   "source": [
    "**Question 2.** Change the transform of the dataset so that it leads to a flattened version of this tensor (its size should be \n",
    "[\n",
    "784\n",
    "])"
   ]
  },
  {
   "cell_type": "code",
   "execution_count": 5,
   "metadata": {},
   "outputs": [],
   "source": [
    "transform = transforms.Compose([\n",
    "    # transforms.Resize,\n",
    "    transforms.ToTensor(),\n",
    "    transforms.Lambda(lambda x: torch.flatten(x)),\n",
    "])\n",
    "\n",
    "training_data = datasets\\\n",
    "    .FashionMNIST(\".\",\n",
    "                  download=True,\n",
    "                  train=True,\n",
    "                  transform=transform)\n",
    "test_data = datasets\\\n",
    "    .FashionMNIST(\".\",\n",
    "                  download=True,\n",
    "                  train=False,\n",
    "                  transform=transform)"
   ]
  },
  {
   "cell_type": "code",
   "execution_count": 6,
   "metadata": {},
   "outputs": [
    {
     "data": {
      "text/plain": [
       "torch.Size([784])"
      ]
     },
     "execution_count": 6,
     "metadata": {},
     "output_type": "execute_result"
    }
   ],
   "source": [
    "training_data[0][0].shape"
   ]
  },
  {
   "attachments": {},
   "cell_type": "markdown",
   "metadata": {},
   "source": [
    "**Question 3.** Using a sequential container, define a variable model_TD1 containing the\n",
    "model of TD1."
   ]
  },
  {
   "cell_type": "code",
   "execution_count": 7,
   "metadata": {},
   "outputs": [],
   "source": [
    "model_td1 = torch.nn.Sequential(\n",
    "    torch.nn.Linear(in_features=28**2 , out_features=1),\n",
    ")"
   ]
  },
  {
   "cell_type": "code",
   "execution_count": 18,
   "metadata": {},
   "outputs": [
    {
     "data": {
      "text/plain": [
       "Sequential(\n",
       "  (0): Linear(in_features=784, out_features=1, bias=True)\n",
       ")"
      ]
     },
     "execution_count": 18,
     "metadata": {},
     "output_type": "execute_result"
    }
   ],
   "source": [
    "model_td1"
   ]
  },
  {
   "attachments": {},
   "cell_type": "markdown",
   "metadata": {},
   "source": [
    "## Training the network"
   ]
  },
  {
   "attachments": {},
   "cell_type": "markdown",
   "metadata": {},
   "source": [
    "**Question 4.** Implement a function `def trainer(dataset,model,loss_fn,epoch=10,batch_size=1,rate=1e-4)` which trains model\n",
    "given as an input with the Adam optimizer using the rate as the learning rate, batch_size\n",
    "as the number of inputs fed a once to the model (use torch.utils.data.DataLoader for that)\n",
    "and loss_fn as the loss function."
   ]
  },
  {
   "cell_type": "code",
   "execution_count": 27,
   "metadata": {},
   "outputs": [],
   "source": [
    "loader = DataLoader(\n",
    "    training_data,\n",
    "    batch_size=1\n",
    ")"
   ]
  },
  {
   "cell_type": "code",
   "execution_count": null,
   "metadata": {},
   "outputs": [],
   "source": []
  },
  {
   "cell_type": "code",
   "execution_count": 22,
   "metadata": {},
   "outputs": [],
   "source": [
    "loss_fn = torch.nn.MSELoss()\n",
    "optimizer = torch.optim.Adam(model_td1.parameters(),\n",
    "                             lr = 1e-4)"
   ]
  },
  {
   "cell_type": "code",
   "execution_count": null,
   "metadata": {},
   "outputs": [],
   "source": [
    "optimizer.zero_grad()"
   ]
  },
  {
   "cell_type": "code",
   "execution_count": 44,
   "metadata": {},
   "outputs": [
    {
     "name": "stderr",
     "output_type": "stream",
     "text": [
      "100%|██████████| 10/10 [07:48<00:00, 46.89s/it]\n"
     ]
    }
   ],
   "source": [
    "n_epochs= 10\n",
    "for epoch in tqdm(range(n_epochs)):\n",
    "    for X_batch, y_batch in loader:\n",
    "        \n",
    "        X_batch = X_batch.to(torch.float32)\n",
    "        y_batch = y_batch.to(torch.float32)\n",
    "\n",
    "        y_pred = model_td1(X_batch)\n",
    "\n",
    "        loss = loss_fn(y_pred, y_batch)\n",
    "        \n",
    "        optimizer.zero_grad()\n",
    "        \n",
    "        loss.backward()\n",
    "        optimizer.step()"
   ]
  },
  {
   "cell_type": "code",
   "execution_count": null,
   "metadata": {},
   "outputs": [],
   "source": [
    "def trainer(\n",
    "    data : torch.Tensor,\n",
    "    model : torch.nn.Sequential,\n",
    "    loss_fn : torch.optim,\n",
    "    n_epochs : int = 10,\n",
    "    batch_size : int = 1,\n",
    "    learning_rate : float = 1e-4\n",
    "):\n",
    "    loader = DataLoader(\n",
    "        training_data,\n",
    "        batch_size=batch_size\n",
    "    )\n",
    "    \n",
    "    optimizer = torch.optim.Adam(model.parameters(),\n",
    "                                 lr = learning_rate)\n",
    "    for epoch in tqdm(range(n_epochs)):\n",
    "        for X_batch, y_batch in loader:\n",
    "            \n",
    "            X_batch = X_batch.to(torch.float32)\n",
    "            y_batch = y_batch.to(torch.float32)\n",
    "\n",
    "            y_pred = model(X_batch)\n",
    "\n",
    "            loss = loss_fn(y_pred, y_batch)\n",
    "            \n",
    "            optimizer.zero_grad()\n",
    "            \n",
    "            loss.backward()\n",
    "            optimizer.step()\n",
    "\n",
    "    return model"
   ]
  },
  {
   "attachments": {},
   "cell_type": "markdown",
   "metadata": {},
   "source": [
    "## Obtaining the scores of the model"
   ]
  },
  {
   "cell_type": "code",
   "execution_count": 56,
   "metadata": {},
   "outputs": [],
   "source": [
    "scores = []\n",
    "\n",
    "with torch.no_grad():\n",
    "    for X_batch, y_batch in loader:\n",
    "        y_pred = model_td1(X_batch)\n",
    "        scores.append(\n",
    "            ((y_pred - y_batch).abs() < .5).item()\n",
    "        )"
   ]
  },
  {
   "cell_type": "code",
   "execution_count": 66,
   "metadata": {},
   "outputs": [],
   "source": [
    "scores = torch.tensor(scores)"
   ]
  },
  {
   "cell_type": "code",
   "execution_count": 69,
   "metadata": {},
   "outputs": [
    {
     "data": {
      "text/plain": [
       "tensor(0.3689)"
      ]
     },
     "execution_count": 69,
     "metadata": {},
     "output_type": "execute_result"
    }
   ],
   "source": [
    "scores.sum()/scores.shape[0]"
   ]
  }
 ],
 "metadata": {
  "kernelspec": {
   "display_name": "base",
   "language": "python",
   "name": "python3"
  },
  "language_info": {
   "codemirror_mode": {
    "name": "ipython",
    "version": 3
   },
   "file_extension": ".py",
   "mimetype": "text/x-python",
   "name": "python",
   "nbconvert_exporter": "python",
   "pygments_lexer": "ipython3",
   "version": "3.10.9"
  },
  "orig_nbformat": 4
 },
 "nbformat": 4,
 "nbformat_minor": 2
}
