{
 "cells": [
  {
   "cell_type": "code",
   "execution_count": 1,
   "metadata": {},
   "outputs": [],
   "source": [
    "import torch\n",
    "import torchvision\n",
    "import matplotlib.pyplot as plt\n",
    "import torchvision.transforms as transforms\n",
    "from torch.utils.data import DataLoader\n",
    "import numpy as np\n",
    "from tqdm import tqdm"
   ]
  },
  {
   "attachments": {},
   "cell_type": "markdown",
   "metadata": {},
   "source": [
    "In this exercise we will create a simple convolutional network and manipulate it to discover the effect of\n",
    "different hyper-parameters. We will implement different versions of the following network:\n",
    "\n",
    "<p align = \"center\">\n",
    "    <img src = \"img/cnn.png\">\n",
    "</p>\n",
    "\n",
    "\n",
    "On the diagram the sizes of the outputs of each layer are represented as follows: `d@hxw`. Where d, h and w\n",
    "represent depth, height and width respectively. We will then use the function\n",
    "`nn.Conv2d` to apply convolutions."
   ]
  },
  {
   "attachments": {},
   "cell_type": "markdown",
   "metadata": {},
   "source": [
    "**Question 4.** Implement and train this network on the FashionMNIST dataset by\n",
    "using a 5x5 sized kernel. Input images must be normalized. We\n",
    "train with a learning rate of 1e-3 out of 5 epoch with the cost function\n",
    "`nn.CrossEntropyLoss()`. Manipulate the padding and stride to get exactly the\n",
    "output image sizes displayed on the diagram.\n",
    "Note that to apply a dense (linear) layer on the output of a layer\n",
    "convolutional it is necessary to change the dimension of the data. You can use\n",
    ".view() for that."
   ]
  },
  {
   "cell_type": "code",
   "execution_count": 2,
   "metadata": {},
   "outputs": [],
   "source": [
    "fashion_train = torchvision\\\n",
    "    .datasets\\\n",
    "    .FashionMNIST(\n",
    "        '.',\n",
    "        train = True,\n",
    "        transform= transforms.ToTensor(),\n",
    "        download= True,\n",
    "    )\n",
    "\n",
    "fashion_test =  torchvision\\\n",
    "    .datasets\\\n",
    "    .FashionMNIST(\n",
    "        '.',\n",
    "        train = False,\n",
    "        transform= transforms.ToTensor(),\n",
    "        download= True,\n",
    "    )\n"
   ]
  },
  {
   "cell_type": "code",
   "execution_count": 3,
   "metadata": {},
   "outputs": [
    {
     "data": {
      "text/plain": [
       "Dataset FashionMNIST\n",
       "    Number of datapoints: 60000\n",
       "    Root location: .\n",
       "    Split: Train\n",
       "    StandardTransform\n",
       "Transform: ToTensor()"
      ]
     },
     "execution_count": 3,
     "metadata": {},
     "output_type": "execute_result"
    }
   ],
   "source": [
    "fashion_train"
   ]
  },
  {
   "cell_type": "code",
   "execution_count": 4,
   "metadata": {},
   "outputs": [],
   "source": [
    "train_loader = DataLoader(\n",
    "    fashion_train,\n",
    "    batch_size = 64    \n",
    ")\n",
    "\n",
    "test_loader = DataLoader(\n",
    "    fashion_test,\n",
    "    batch_size=64\n",
    ")"
   ]
  },
  {
   "cell_type": "code",
   "execution_count": 5,
   "metadata": {},
   "outputs": [],
   "source": [
    "class MyFirstCNN(torch.nn.Module):\n",
    "    def __init__(self,) -> None:\n",
    "        super().__init__()\n",
    "\n",
    "        self.layer1 = torch.nn.Sequential(\n",
    "            torch.nn.Conv2d(\n",
    "                in_channels=1,\n",
    "                out_channels=4,\n",
    "                kernel_size=5,\n",
    "                stride= 1,\n",
    "                padding=5\n",
    "            ),\n",
    "            torch.nn.MaxPool2d(\n",
    "                kernel_size=7,\n",
    "                stride=2\n",
    "            )\n",
    "        )\n",
    "\n",
    "        self.layer2 = torch.nn.Sequential(\n",
    "            torch.nn.Conv2d(\n",
    "                in_channels=4,\n",
    "                out_channels=8,\n",
    "                kernel_size=5,\n",
    "                stride= 1,\n",
    "                padding=5\n",
    "            ),\n",
    "            torch.nn.MaxPool2d(\n",
    "                kernel_size=2,\n",
    "            )\n",
    "        )\n",
    "\n",
    "        self.layer3 = torch.nn.Conv2d(\n",
    "            8, \n",
    "            16,\n",
    "            4\n",
    "        )\n",
    "\n",
    "        self.dense = torch.nn.Linear(\n",
    "            16 * 7 * 7,\n",
    "            10\n",
    "        )\n",
    "\n",
    "    def forward(self, \n",
    "                x :torch.Tensor):\n",
    "        x = self.layer1(x)\n",
    "        # print(f\"Layer 1: {x.shape}\")\n",
    "        x = self.layer2(x)\n",
    "        # print(f\"Layer 2: {x.shape}\")\n",
    "        x = self.layer3(x)\n",
    "        # print(f\"Layer 3: {x.shape}\")\n",
    "        x = x.view(x.size(0), -1)\n",
    "        output = self.dense(x)\n",
    "\n",
    "        return output    "
   ]
  },
  {
   "cell_type": "code",
   "execution_count": 6,
   "metadata": {},
   "outputs": [],
   "source": [
    "cnn = MyFirstCNN()\n",
    "loss_fn = torch.nn.CrossEntropyLoss()\n",
    "optimizer = torch.optim.Adam(\n",
    "    cnn.parameters(),\n",
    "    lr = 1e-3\n",
    ")"
   ]
  },
  {
   "cell_type": "code",
   "execution_count": 137,
   "metadata": {},
   "outputs": [
    {
     "name": "stderr",
     "output_type": "stream",
     "text": [
      "100%|██████████| 5/5 [01:44<00:00, 20.97s/it]\n"
     ]
    }
   ],
   "source": [
    "n_epochs= 5\n",
    "for epoch in tqdm(range(n_epochs)):\n",
    "    for X_batch, y_batch in train_loader:\n",
    "\n",
    "        y_pred = cnn(X_batch)\n",
    "\n",
    "        loss = loss_fn(y_pred, y_batch)\n",
    "        \n",
    "        optimizer.zero_grad()\n",
    "        \n",
    "        loss.backward()\n",
    "        optimizer.step()"
   ]
  },
  {
   "cell_type": "code",
   "execution_count": 150,
   "metadata": {},
   "outputs": [],
   "source": [
    "success_rate = torch.tensor([])\n",
    "\n",
    "with torch.no_grad():\n",
    "    for X_batch, y_batch in test_loader:\n",
    "\n",
    "        y_pred = cnn(X_batch)\n",
    "\n",
    "        success_rate = torch\\\n",
    "            .cat([\n",
    "                success_rate, \n",
    "                y_pred.argmax(dim = 1) == y_batch\n",
    "            ])"
   ]
  },
  {
   "cell_type": "code",
   "execution_count": 151,
   "metadata": {},
   "outputs": [
    {
     "data": {
      "text/plain": [
       "tensor(0.8614)"
      ]
     },
     "execution_count": 151,
     "metadata": {},
     "output_type": "execute_result"
    }
   ],
   "source": [
    "success_rate.sum()/success_rate.shape[0]"
   ]
  },
  {
   "cell_type": "code",
   "execution_count": 28,
   "metadata": {},
   "outputs": [],
   "source": [
    "def train_model(model : torch.nn.Module,\n",
    "                loader : DataLoader,\n",
    "                optimizer : torch.optim,\n",
    "                loss_fn: torch.Callable,\n",
    "                n_epochs : int = 5):\n",
    "    \n",
    "    errors = torch.tensor([])\n",
    "    \n",
    "    for epoch in tqdm(range(n_epochs)):\n",
    "        batch_error = torch.tensor([])\n",
    "        for X_batch, y_batch in loader:\n",
    "\n",
    "            y_pred = model(X_batch)\n",
    "\n",
    "            loss = loss_fn(y_pred, y_batch)\n",
    "            batch_error = torch.cat([batch_error, torch.tensor([loss.item()])])\n",
    "            \n",
    "            optimizer.zero_grad()\n",
    "            \n",
    "            loss.backward()\n",
    "            optimizer.step()\n",
    "\n",
    "        errors = torch.cat([errors, torch.tensor([batch_error.mean()])])\n",
    "\n",
    "\n",
    "    return errors"
   ]
  },
  {
   "cell_type": "code",
   "execution_count": 29,
   "metadata": {},
   "outputs": [],
   "source": [
    "def model_accuracy(loader : DataLoader,\n",
    "                   model : torch.nn.Module)->float:\n",
    "    success_rate = torch.tensor([])\n",
    "\n",
    "    with torch.no_grad():\n",
    "        for X_batch, y_batch in loader:\n",
    "\n",
    "            y_pred = model(X_batch)\n",
    "\n",
    "            success_rate = torch\\\n",
    "                .cat([\n",
    "                    success_rate, \n",
    "                    y_pred.argmax(dim = 1) == y_batch\n",
    "                ])\n",
    "            \n",
    "    return success_rate.sum()/success_rate.shape[0]"
   ]
  },
  {
   "attachments": {},
   "cell_type": "markdown",
   "metadata": {},
   "source": [
    "**Question 5.** Implement and train the same network using filters of\n",
    "convolution half as deep (depth 2, 4, and 8 instead of 4, 8 and 16). What can you conclude?"
   ]
  },
  {
   "cell_type": "code",
   "execution_count": 173,
   "metadata": {},
   "outputs": [],
   "source": [
    "class LessDimensionalCNN(torch.nn.Module):\n",
    "    def __init__(self,) -> None:\n",
    "        super().__init__()\n",
    "\n",
    "        self.layer1 = torch.nn.Sequential(\n",
    "            torch.nn.Conv2d(\n",
    "                in_channels=1,\n",
    "                out_channels=2,\n",
    "                kernel_size=5,\n",
    "                stride= 1,\n",
    "                padding=5\n",
    "            ),\n",
    "            torch.nn.MaxPool2d(\n",
    "                kernel_size=7,\n",
    "                stride=2\n",
    "            )\n",
    "        )\n",
    "\n",
    "        self.layer2 = torch.nn.Sequential(\n",
    "            torch.nn.Conv2d(\n",
    "                in_channels=2,\n",
    "                out_channels=4,\n",
    "                kernel_size=5,\n",
    "                stride= 1,\n",
    "                padding=5\n",
    "            ),\n",
    "            torch.nn.MaxPool2d(\n",
    "                kernel_size=2,\n",
    "            )\n",
    "        )\n",
    "\n",
    "        self.layer3 = torch.nn.Conv2d(\n",
    "            4, \n",
    "            8,\n",
    "            4\n",
    "        )\n",
    "\n",
    "        self.dense = torch.nn.Linear(\n",
    "            8 * 7 * 7,\n",
    "            10\n",
    "        )\n",
    "\n",
    "    def forward(self, \n",
    "                x :torch.Tensor):\n",
    "        x = self.layer1(x)\n",
    "        # print(f\"Layer 1: {x.shape}\")\n",
    "        x = self.layer2(x)\n",
    "        # print(f\"Layer 2: {x.shape}\")\n",
    "        x = self.layer3(x)\n",
    "        # print(f\"Layer 3: {x.shape}\")\n",
    "        x = x.view(x.size(0), -1)\n",
    "        output = self.dense(x)\n",
    "\n",
    "        return output    "
   ]
  },
  {
   "cell_type": "code",
   "execution_count": 174,
   "metadata": {},
   "outputs": [],
   "source": [
    "less_dim_cnn = LessDimensionalCNN()\n",
    "loss_fn = torch.nn.CrossEntropyLoss()\n",
    "optimizer = torch.optim.Adam(\n",
    "    less_dim_cnn.parameters(),\n",
    "    lr = 1e-3\n",
    ")"
   ]
  },
  {
   "cell_type": "code",
   "execution_count": 168,
   "metadata": {},
   "outputs": [
    {
     "name": "stderr",
     "output_type": "stream",
     "text": [
      "100%|██████████| 5/5 [01:30<00:00, 18.20s/it]\n"
     ]
    }
   ],
   "source": [
    "cost_train = train_model(\n",
    "    less_dim_cnn, \n",
    "    train_loader, \n",
    "    optimizer,\n",
    "    loss_fn\n",
    ")"
   ]
  },
  {
   "cell_type": "code",
   "execution_count": 167,
   "metadata": {},
   "outputs": [
    {
     "data": {
      "text/plain": [
       "tensor(0.8443)"
      ]
     },
     "execution_count": 167,
     "metadata": {},
     "output_type": "execute_result"
    }
   ],
   "source": [
    "model_accuracy(test_loader, less_dim_cnn)"
   ]
  },
  {
   "attachments": {},
   "cell_type": "markdown",
   "metadata": {},
   "source": [
    "We can conclude that since we had less parameters to train, our performance was worst"
   ]
  },
  {
   "attachments": {},
   "cell_type": "markdown",
   "metadata": {},
   "source": [
    "**Question 6.** Implement and train the same network using filters of\n",
    "narrower convolutions (of size 3x3 instead of 5x5). What can you conclude?"
   ]
  },
  {
   "cell_type": "code",
   "execution_count": 202,
   "metadata": {},
   "outputs": [],
   "source": [
    "class Filter3CNN(torch.nn.Module):\n",
    "    def __init__(self,) -> None:\n",
    "        super().__init__()\n",
    "\n",
    "        self.layer1 = torch.nn.Sequential(\n",
    "            torch.nn.Conv2d(\n",
    "                in_channels=1,\n",
    "                out_channels=4,\n",
    "                kernel_size=3,\n",
    "                stride= 1,\n",
    "                padding=4\n",
    "            ),\n",
    "            torch.nn.MaxPool2d(\n",
    "                kernel_size=7,\n",
    "                stride=2\n",
    "            )\n",
    "        )\n",
    "\n",
    "        self.layer2 = torch.nn.Sequential(\n",
    "            torch.nn.Conv2d(\n",
    "                in_channels=4,\n",
    "                out_channels=8,\n",
    "                kernel_size=3,\n",
    "                stride= 1,\n",
    "                padding=1\n",
    "            ),\n",
    "            torch.nn.MaxPool2d(\n",
    "                kernel_size=2,\n",
    "            )\n",
    "        )\n",
    "\n",
    "        self.layer3 = torch.nn.Conv2d(\n",
    "            in_channels=8, \n",
    "            out_channels=16,\n",
    "            kernel_size=3,\n",
    "            padding=1\n",
    "        )\n",
    "\n",
    "        self.dense = torch.nn.Linear(\n",
    "            16 * 7 * 7,\n",
    "            10\n",
    "        )\n",
    "\n",
    "    def forward(self, \n",
    "                x :torch.Tensor):\n",
    "        x = self.layer1(x)\n",
    "        # print(f\"Layer 1: {x.shape}\")\n",
    "        x = self.layer2(x)\n",
    "        # print(f\"Layer 2: {x.shape}\")\n",
    "        x = self.layer3(x)\n",
    "        # print(f\"Layer 3: {x.shape}\")\n",
    "        x = x.view(x.size(0), -1)\n",
    "        output = self.dense(x)\n",
    "\n",
    "        return output  "
   ]
  },
  {
   "cell_type": "code",
   "execution_count": 203,
   "metadata": {},
   "outputs": [],
   "source": [
    "cnn_3_filter = Filter3CNN()\n",
    "loss_fn = torch.nn.CrossEntropyLoss()\n",
    "optimizer = torch.optim.Adam(\n",
    "    cnn_3_filter.parameters(),\n",
    "    lr = 1e-4\n",
    ")"
   ]
  },
  {
   "cell_type": "code",
   "execution_count": 209,
   "metadata": {},
   "outputs": [
    {
     "name": "stderr",
     "output_type": "stream",
     "text": [
      "  0%|          | 0/5 [00:00<?, ?it/s]"
     ]
    },
    {
     "name": "stderr",
     "output_type": "stream",
     "text": [
      " 20%|██        | 1/5 [00:17<01:11, 17.81s/it]"
     ]
    },
    {
     "name": "stdout",
     "output_type": "stream",
     "text": [
      "Epoch: 0, loss : 0.5130930542945862\n"
     ]
    },
    {
     "name": "stderr",
     "output_type": "stream",
     "text": [
      " 40%|████      | 2/5 [00:38<00:59, 19.73s/it]"
     ]
    },
    {
     "name": "stdout",
     "output_type": "stream",
     "text": [
      "Epoch: 1, loss : 0.5016865730285645\n"
     ]
    },
    {
     "name": "stderr",
     "output_type": "stream",
     "text": [
      " 60%|██████    | 3/5 [01:00<00:40, 20.41s/it]"
     ]
    },
    {
     "name": "stdout",
     "output_type": "stream",
     "text": [
      "Epoch: 2, loss : 0.49180662631988525\n"
     ]
    },
    {
     "name": "stderr",
     "output_type": "stream",
     "text": [
      " 80%|████████  | 4/5 [01:20<00:20, 20.41s/it]"
     ]
    },
    {
     "name": "stdout",
     "output_type": "stream",
     "text": [
      "Epoch: 3, loss : 0.4831910729408264\n"
     ]
    },
    {
     "name": "stderr",
     "output_type": "stream",
     "text": [
      "100%|██████████| 5/5 [01:40<00:00, 20.19s/it]"
     ]
    },
    {
     "name": "stdout",
     "output_type": "stream",
     "text": [
      "Epoch: 4, loss : 0.47563838958740234\n"
     ]
    },
    {
     "name": "stderr",
     "output_type": "stream",
     "text": [
      "\n"
     ]
    }
   ],
   "source": [
    "history = train_model(\n",
    "    cnn_3_filter,\n",
    "    train_loader,\n",
    "    optimizer,\n",
    "    loss_fn\n",
    ")"
   ]
  },
  {
   "cell_type": "code",
   "execution_count": 210,
   "metadata": {},
   "outputs": [
    {
     "data": {
      "text/plain": [
       "tensor(0.8211)"
      ]
     },
     "execution_count": 210,
     "metadata": {},
     "output_type": "execute_result"
    }
   ],
   "source": [
    "model_accuracy(\n",
    "    test_loader,\n",
    "    cnn_3_filter\n",
    ")"
   ]
  },
  {
   "attachments": {},
   "cell_type": "markdown",
   "metadata": {},
   "source": [
    "## Influence of network depth\n",
    "Increasing the depth of a network allows it to create features, intermediate outputs,\n",
    "more and more abstract: thus we can increase the capacity of the network to recognize images while maintaining\n",
    "the number of parameters in O(1) relative to the size of the input image."
   ]
  },
  {
   "attachments": {},
   "cell_type": "markdown",
   "metadata": {},
   "source": [
    "**Question 7.** Calculate the number of parameters of the first network of the exercise and the\n",
    "number of network settings below.\n",
    "\n",
    "<p align = \"center\">\n",
    "    <img src = \"img/second_net.png\">\n",
    "</p>"
   ]
  },
  {
   "cell_type": "code",
   "execution_count": 22,
   "metadata": {},
   "outputs": [],
   "source": [
    "def get_num_parameters(model : torch.nn.Module):\n",
    "    model_parameters = filter(lambda p: p.requires_grad, model.parameters())\n",
    "    params = sum([np.prod(p.size()) for p in model_parameters])\n",
    "\n",
    "    return params"
   ]
  },
  {
   "cell_type": "code",
   "execution_count": 10,
   "metadata": {},
   "outputs": [
    {
     "data": {
      "text/plain": [
       "10826"
      ]
     },
     "execution_count": 10,
     "metadata": {},
     "output_type": "execute_result"
    }
   ],
   "source": [
    "get_num_parameters(cnn)"
   ]
  },
  {
   "cell_type": "code",
   "execution_count": 31,
   "metadata": {},
   "outputs": [],
   "source": [
    "class OneHiddenLayerCNN(torch.nn.Module):\n",
    "    def __init__(self, ) -> None:\n",
    "        super().__init__()\n",
    "        self.conv = torch.nn.Conv2d(\n",
    "            in_channels=1,\n",
    "            out_channels=4,\n",
    "            kernel_size=1\n",
    "        )\n",
    "\n",
    "        self.dense = torch.nn.Linear(\n",
    "            in_features=4 * 28* 28,\n",
    "            out_features=10\n",
    "        )\n",
    "\n",
    "    def forward(self, x : torch.Tensor):\n",
    "        x = self.conv(x)\n",
    "        x = x.view(x.size(0), -1)\n",
    "        output = self.dense(x)\n",
    "\n",
    "        return output\n"
   ]
  },
  {
   "cell_type": "code",
   "execution_count": 24,
   "metadata": {},
   "outputs": [],
   "source": [
    "one_hidden_layer_cnn = OneHiddenLayerCNN()"
   ]
  },
  {
   "cell_type": "code",
   "execution_count": 25,
   "metadata": {},
   "outputs": [
    {
     "data": {
      "text/plain": [
       "31378"
      ]
     },
     "execution_count": 25,
     "metadata": {},
     "output_type": "execute_result"
    }
   ],
   "source": [
    "get_num_parameters(one_hidden_layer_cnn)"
   ]
  },
  {
   "cell_type": "markdown",
   "metadata": {},
   "source": [
    "**Question 8.** Implement and train this network."
   ]
  },
  {
   "cell_type": "code",
   "execution_count": 36,
   "metadata": {},
   "outputs": [],
   "source": [
    "one_hidden_layer_cnn = OneHiddenLayerCNN()\n",
    "loss_fn = torch.nn.CrossEntropyLoss()\n",
    "optimizer = torch.optim.Adam(\n",
    "    one_hidden_layer_cnn.parameters(),\n",
    "    lr = 1e-4\n",
    ")"
   ]
  },
  {
   "cell_type": "code",
   "execution_count": 38,
   "metadata": {},
   "outputs": [
    {
     "name": "stderr",
     "output_type": "stream",
     "text": [
      "100%|██████████| 5/5 [00:56<00:00, 11.20s/it]\n"
     ]
    }
   ],
   "source": [
    "history = train_model(one_hidden_layer_cnn,\n",
    "                      train_loader,\n",
    "                      optimizer,\n",
    "                      loss_fn)"
   ]
  },
  {
   "cell_type": "code",
   "execution_count": 39,
   "metadata": {},
   "outputs": [
    {
     "data": {
      "text/plain": [
       "tensor(0.8324)"
      ]
     },
     "execution_count": 39,
     "metadata": {},
     "output_type": "execute_result"
    }
   ],
   "source": [
    "model_accuracy(test_loader,\n",
    "               one_hidden_layer_cnn)"
   ]
  }
 ],
 "metadata": {
  "kernelspec": {
   "display_name": "base",
   "language": "python",
   "name": "python3"
  },
  "language_info": {
   "codemirror_mode": {
    "name": "ipython",
    "version": 3
   },
   "file_extension": ".py",
   "mimetype": "text/x-python",
   "name": "python",
   "nbconvert_exporter": "python",
   "pygments_lexer": "ipython3",
   "version": "3.10.9"
  },
  "orig_nbformat": 4
 },
 "nbformat": 4,
 "nbformat_minor": 2
}
