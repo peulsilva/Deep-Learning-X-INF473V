{
 "cells": [
  {
   "attachments": {},
   "cell_type": "markdown",
   "metadata": {},
   "source": [
    "\n",
    "**Question 1** Ouvrez un nouveau cahier dans lequel vous complèterez le code suivant:"
   ]
  },
  {
   "cell_type": "code",
   "execution_count": 426,
   "metadata": {},
   "outputs": [],
   "source": [
    "\n",
    "import matplotlib.pyplot as plt\n",
    "import numpy as np\n",
    "import sympy as sp"
   ]
  },
  {
   "cell_type": "code",
   "execution_count": 427,
   "metadata": {},
   "outputs": [],
   "source": [
    "def gradient_descent(\n",
    "    f : callable,\n",
    "    x0 : float,\n",
    "    eta : float,\n",
    "    epsilon : float\n",
    "): \n",
    "        x = sp.symbols(\"x\")\n",
    "        df = sp.lambdify(x,sp.diff(f(x),x))\n",
    "\n",
    "        result = x0\n",
    "        num_iter = 0\n",
    "        while (abs(df(result)) > epsilon and num_iter < 1e4):\n",
    "            result = result - eta*df(result)\n",
    "            num_iter += 1\n",
    "\n",
    "        print(f\"num iter = {num_iter}\")\n",
    "        return result"
   ]
  },
  {
   "cell_type": "code",
   "execution_count": 428,
   "metadata": {},
   "outputs": [
    {
     "name": "stdout",
     "output_type": "stream",
     "text": [
      "num iter = 6289\n"
     ]
    },
    {
     "data": {
      "text/plain": [
       "0.006299133275237522"
      ]
     },
     "execution_count": 428,
     "metadata": {},
     "output_type": "execute_result"
    }
   ],
   "source": [
    "gradient_descent(\n",
    "    lambda x: x**4,\n",
    "    np.random.rand(),\n",
    "    0.5,\n",
    "    1e-6\n",
    ")"
   ]
  },
  {
   "attachments": {},
   "cell_type": "markdown",
   "metadata": {},
   "source": [
    "**Question 2** Testez votre code avec les paramètres g = lambda x : x**2-x+1, eta=.01 et x0=10 et epsilon=.01"
   ]
  },
  {
   "cell_type": "code",
   "execution_count": 429,
   "metadata": {},
   "outputs": [
    {
     "name": "stdout",
     "output_type": "stream",
     "text": [
      "num iter = 34\n"
     ]
    },
    {
     "data": {
      "text/plain": [
       "0.5048170722808673"
      ]
     },
     "execution_count": 429,
     "metadata": {},
     "output_type": "execute_result"
    }
   ],
   "source": [
    "gradient_descent(\n",
    "    lambda x: x**2 - x + 1,\n",
    "    10,\n",
    "    0.1,\n",
    "    1e-2\n",
    ")"
   ]
  },
  {
   "attachments": {},
   "cell_type": "markdown",
   "metadata": {},
   "source": [
    "**Question 3** Essayez maintenant avec la fonction f = lambda x: 0.01*(x ** 4+2*x**3-12*x**2-2*x+6) et les mêmes paramètres que précedemment. Cette fonction a deux minima en \n",
    "x\n",
    "1\n",
    "≈\n",
    "−\n",
    "3.28\n",
    " et \n",
    "x\n",
    "2\n",
    "≈\n",
    "1.86\n",
    ". Si vous avez implémenté l'algorithme tel que donné ci-dessus, il aura normalement trouvé une valeur proche de \n",
    "x\n",
    "2\n",
    ", mais la valeur en \n",
    "x\n",
    "1\n",
    " est plus faible. L'algorithme a donc renvoyé un minimum local au lieu du minimum global.\n"
   ]
  },
  {
   "cell_type": "code",
   "execution_count": 430,
   "metadata": {},
   "outputs": [
    {
     "name": "stdout",
     "output_type": "stream",
     "text": [
      "num iter = 89\n"
     ]
    },
    {
     "data": {
      "text/plain": [
       "1.8879268815398067"
      ]
     },
     "execution_count": 430,
     "metadata": {},
     "output_type": "execute_result"
    }
   ],
   "source": [
    "gradient_descent(\n",
    "    lambda x: 0.01*(x**4 + 2*x**3 -12*x**2 -2*x +6),\n",
    "    10,\n",
    "    0.1,\n",
    "    1e-2\n",
    ")"
   ]
  },
  {
   "attachments": {},
   "cell_type": "markdown",
   "metadata": {},
   "source": [
    "**Question 4** Vous pouvez ressayer sur f avec eta = .2, x0 = -4 et epsilon = 0.1. Porquoi le résultat est il différent?"
   ]
  },
  {
   "cell_type": "code",
   "execution_count": 431,
   "metadata": {},
   "outputs": [
    {
     "name": "stdout",
     "output_type": "stream",
     "text": [
      "num iter = 10\n"
     ]
    },
    {
     "data": {
      "text/plain": [
       "-3.4117861632904525"
      ]
     },
     "execution_count": 431,
     "metadata": {},
     "output_type": "execute_result"
    }
   ],
   "source": [
    "gradient_descent(\n",
    "    lambda x: 0.01*(x**4 + 2*x**3 -12*x**2 -2*x +6),\n",
    "    -4,\n",
    "    0.2,\n",
    "    1e-1\n",
    ")"
   ]
  },
  {
   "attachments": {},
   "cell_type": "markdown",
   "metadata": {},
   "source": [
    "Le résultat est different parce que nous sommes plus proches du maximun global"
   ]
  },
  {
   "attachments": {},
   "cell_type": "markdown",
   "metadata": {},
   "source": [
    "**Question 5** Trouvez des conditions initiales avec lesquelles l'algorithme ne termine pas pour la fonction $f(x) = x^2$"
   ]
  },
  {
   "cell_type": "code",
   "execution_count": 432,
   "metadata": {},
   "outputs": [
    {
     "name": "stdout",
     "output_type": "stream",
     "text": [
      "num iter = 10000\n"
     ]
    },
    {
     "data": {
      "text/plain": [
       "1"
      ]
     },
     "execution_count": 432,
     "metadata": {},
     "output_type": "execute_result"
    }
   ],
   "source": [
    "gradient_descent(\n",
    "    lambda x: x**2,\n",
    "    1,\n",
    "    1,\n",
    "    1e-1\n",
    ")"
   ]
  },
  {
   "attachments": {},
   "cell_type": "markdown",
   "metadata": {},
   "source": [
    "## Fashion MNIST classification"
   ]
  },
  {
   "attachments": {},
   "cell_type": "markdown",
   "metadata": {},
   "source": [
    "Écrivez une fonction propagate(w,b,training_data) qui renvoie un couple (cout,gradw,gradb) contenant le coût \n",
    "S\n",
    "(\n",
    "w\n",
    ")\n",
    " et le gradient de \n",
    "S\n",
    " en \n",
    "w\n",
    " et en \n",
    "b\n",
    ". On pourra commencer par calculer, sur papier, l'expression du gradient. Pour le calcul matriciel on se servira de Numpy."
   ]
  },
  {
   "attachments": {},
   "cell_type": "markdown",
   "metadata": {},
   "source": [
    "On sait que \n",
    "\n",
    "$$\n",
    "    S(\\omega) = \\frac{1}{n}(y_i - \\omega  x_i - b)^2 \\\\\n",
    "\n",
    "    \\frac{\\partial S}{\\partial \\omega} =\\frac{1}{n} (y_i - \\omega  x_i - b) \\vec x \\\\ \n",
    "\n",
    "    \\frac{\\partial S}{\\partial b} =\\frac{1}{n} (y_i - \\omega  x_i - b) \n",
    "$$"
   ]
  },
  {
   "cell_type": "code",
   "execution_count": 433,
   "metadata": {},
   "outputs": [],
   "source": [
    "from torchvision import datasets\n",
    "import matplotlib.pyplot as plt\n",
    "\n",
    "training_data = datasets.FashionMNIST(\".\",download=True,train=True)\n",
    "test_data = datasets.FashionMNIST(\".\",download=True,train=False)"
   ]
  },
  {
   "cell_type": "code",
   "execution_count": 434,
   "metadata": {},
   "outputs": [
    {
     "data": {
      "text/plain": [
       "<matplotlib.image.AxesImage at 0x7f437ae05a20>"
      ]
     },
     "execution_count": 434,
     "metadata": {},
     "output_type": "execute_result"
    },
    {
     "data": {
      "image/png": "[encoded data removed]",
      "text/plain": [
       "<Figure size 640x480 with 1 Axes>"
      ]
     },
     "metadata": {},
     "output_type": "display_data"
    }
   ],
   "source": [
    "plt.imshow(training_data[0][0])"
   ]
  },
  {
   "cell_type": "code",
   "execution_count": 435,
   "metadata": {},
   "outputs": [],
   "source": [
    "\n",
    "test_data = [(np.ndarray.flatten(np.array(img))/255,cat) for img,cat in test_data]\n",
    "training_data = [(np.ndarray.flatten(np.array(img))/255,cat) for img,cat in training_data]\n",
    "np.random.shuffle(training_data) # on mélange les données d'entraînement qui étaient classées"
   ]
  },
  {
   "cell_type": "code",
   "execution_count": 436,
   "metadata": {},
   "outputs": [
    {
     "data": {
      "text/plain": [
       "784"
      ]
     },
     "execution_count": 436,
     "metadata": {},
     "output_type": "execute_result"
    }
   ],
   "source": [
    "len(training_data[0][0])"
   ]
  },
  {
   "cell_type": "code",
   "execution_count": 437,
   "metadata": {},
   "outputs": [],
   "source": [
    "def propagate(\n",
    "    w : np.ndarray,\n",
    "    b : float,\n",
    "    training_data\n",
    "):\n",
    "    n = len(training_data)\n",
    "\n",
    "    cost = 0\n",
    "    gradw = np.zeros_like(w)\n",
    "    gradb = 0\n",
    "    for i in range (len(training_data)):\n",
    "        y_true = training_data[i][1]\n",
    "        X = training_data[i][0]\n",
    "        y_hat = X.dot(w)+ b\n",
    "        \n",
    "        cost += (y_true - y_hat)**2/n\n",
    "        gradw += (y_hat - y_true)*training_data[i][0]/n\n",
    "        gradb += 1/n * (y_hat - y_true)\n",
    "\n",
    "    return cost, gradb, gradw"
   ]
  },
  {
   "cell_type": "code",
   "execution_count": 438,
   "metadata": {},
   "outputs": [],
   "source": [
    "w = np.random.rand(28**2)\n",
    "b = np.random.rand()\n",
    "\n",
    "_, gradb, gradw = propagate(w, b, training_data)"
   ]
  },
  {
   "attachments": {},
   "cell_type": "markdown",
   "metadata": {},
   "source": [
    "Écrivez une fonction ```optimize_gd(w,b,training_data,rate=5e-3,maxiter=1000,info=10)``` qui implémente la descente de gradient et renvoie un triplet `(w,b,costs)` contenant les valeurs de \n",
    "→\n",
    "w\n",
    " et \n",
    "b\n",
    " ainsi qu'un tableau contenant le coût à chaque itération. La fonction termine soit quand on a atteint le nombre maximal d'itérations maxiter, soit quand la norme du gradient est suffisamment proche de 0 (en pratique ce sera souvent le premier cas)."
   ]
  },
  {
   "cell_type": "code",
   "execution_count": 439,
   "metadata": {},
   "outputs": [],
   "source": [
    "def optimize_gd(\n",
    "    w : np.ndarray,\n",
    "    b:float,\n",
    "    training_data,\n",
    "    learning_rate : float = 5e-3,\n",
    "    maxiter : int = 40,\n",
    "    info = 10\n",
    "):\n",
    "    cost, gradb, gradw = propagate(w, b, training_data)\n",
    "\n",
    "    costs_list = []\n",
    "    costs_list.append(cost)\n",
    "    n_iter = 0\n",
    "\n",
    "    while ((max(np.linalg.norm(gradw), abs(gradb)) > info) &\n",
    "           (n_iter < maxiter)):\n",
    "        \n",
    "        n_iter += 1\n",
    "\n",
    "        w -= gradw*learning_rate\n",
    "        b -= gradb*learning_rate\n",
    "\n",
    "        cost, gradb, gradw = propagate(w, b, training_data)\n",
    "        costs_list.append(cost)\n",
    "\n",
    "    return w, b, costs_list\n",
    "\n"
   ]
  },
  {
   "cell_type": "code",
   "execution_count": 440,
   "metadata": {},
   "outputs": [
    {
     "data": {
      "text/plain": [
       "15.8613174736704"
      ]
     },
     "execution_count": 440,
     "metadata": {},
     "output_type": "execute_result"
    }
   ],
   "source": [
    "np.linalg.norm(np.random.rand(28**2))"
   ]
  },
  {
   "cell_type": "code",
   "execution_count": 441,
   "metadata": {},
   "outputs": [],
   "source": [
    "w, b, costs_list = optimize_gd(np.random.rand(28**2),\n",
    "                              np.random.rand(),\n",
    "                              training_data[:10_000],\n",
    "                              info = 1,\n",
    "                              learning_rate=5e-3)"
   ]
  },
  {
   "cell_type": "code",
   "execution_count": 442,
   "metadata": {},
   "outputs": [
    {
     "data": {
      "text/plain": [
       "[<matplotlib.lines.Line2D at 0x7f437a127700>]"
      ]
     },
     "execution_count": 442,
     "metadata": {},
     "output_type": "execute_result"
    },
    {
     "data": {
      "image/png": "[encoded data removed]",
      "text/plain": [
       "<Figure size 640x480 with 1 Axes>"
      ]
     },
     "metadata": {},
     "output_type": "display_data"
    }
   ],
   "source": [
    "plt.plot(costs_list)"
   ]
  },
  {
   "cell_type": "code",
   "execution_count": 443,
   "metadata": {},
   "outputs": [],
   "source": [
    "i = 10\n",
    "X = training_data[i][0]\n",
    "y_hat = X.dot(w)+ b"
   ]
  },
  {
   "cell_type": "code",
   "execution_count": 444,
   "metadata": {},
   "outputs": [
    {
     "data": {
      "text/plain": [
       "5.295911376555483"
      ]
     },
     "execution_count": 444,
     "metadata": {},
     "output_type": "execute_result"
    }
   ],
   "source": [
    "y_hat"
   ]
  },
  {
   "cell_type": "code",
   "execution_count": 445,
   "metadata": {},
   "outputs": [
    {
     "data": {
      "text/plain": [
       "9"
      ]
     },
     "execution_count": 445,
     "metadata": {},
     "output_type": "execute_result"
    }
   ],
   "source": [
    "training_data[i][1]"
   ]
  },
  {
   "cell_type": "code",
   "execution_count": null,
   "metadata": {},
   "outputs": [],
   "source": []
  },
  {
   "cell_type": "code",
   "execution_count": 446,
   "metadata": {},
   "outputs": [],
   "source": [
    "def test_params(\n",
    "    w : np.ndarray,\n",
    "    b: float,\n",
    "    training_data\n",
    "):\n",
    "    score = 0\n",
    "    for i in range(len(training_data)):\n",
    "        X = training_data[i][0]\n",
    "        y_hat = X.dot(w)+ b\n",
    "        \n",
    "        if (abs(y_hat - training_data[i][1]) < 0.5):\n",
    "            score += 1/len(training_data)\n",
    "\n",
    "    return score\n",
    "\n",
    "    "
   ]
  },
  {
   "cell_type": "code",
   "execution_count": 447,
   "metadata": {},
   "outputs": [
    {
     "data": {
      "text/plain": [
       "0.09100000000000158"
      ]
     },
     "execution_count": 447,
     "metadata": {},
     "output_type": "execute_result"
    }
   ],
   "source": [
    "test_params(w, b, training_data[:10000])"
   ]
  },
  {
   "attachments": {},
   "cell_type": "markdown",
   "metadata": {},
   "source": [
    "## Stochastic gradient descent"
   ]
  },
  {
   "attachments": {},
   "cell_type": "markdown",
   "metadata": {},
   "source": [
    "Écrivez la version stochastique ```optimize_sgd(w,b,training_data,rate=5e-4,maxiter=40,info=1)``` de la fonction optimize_gd (si l'on a écrit la fonction propagate de manière suffisamment générique, on pourra utiliser les slices de python pour se simplifier le travail) . On fera attention à bien calculer le coût. maxiter représentera ici le nombre de fois où l'on itère sur tout le jeu de données."
   ]
  },
  {
   "cell_type": "code",
   "execution_count": 448,
   "metadata": {},
   "outputs": [],
   "source": [
    "w = np.random.rand(28**2)\n",
    "b = np.random.rand()\n",
    "\n",
    "i = np.random.randint(0, 10000 - 1)\n",
    "n_iter = 0\n",
    "info = 1\n",
    "maxiter = 1_000_000\n",
    "\n",
    "n_epochs = 1000\n",
    "\n",
    "cost, gradb, gradw = propagate(w,\n",
    "                               b,\n",
    "                               training_data)\n"
   ]
  },
  {
   "cell_type": "code",
   "execution_count": 450,
   "metadata": {},
   "outputs": [],
   "source": [
    "def optimize_sgd(w :np.ndarray,\n",
    "                 b : float,\n",
    "                 training_data, \n",
    "                 learning_rate : float = 5e-4,\n",
    "                 maxiter : int = 40,\n",
    "                 info : int = 1):\n",
    "        \"\"\"Stochastic gradient descent implementation\n",
    "        \"\"\"        \n",
    "    \n",
    "        n_iter = 0\n",
    "        cost, gradb, gradw = propagate(w, b, training_data)\n",
    "    \n",
    "        while ((max(np.linalg.norm(gradw, np.inf), abs(gradb)) > 1e-6) ):\n",
    "    \n",
    "\n",
    "                n_iter += 1 \n",
    "\n",
    "                i = np.random.randint(0,10000 - 1)\n",
    "\n",
    "                new_cost, gradb, gradw = propagate(w,\n",
    "                                                b,\n",
    "                                                training_data[i:i+1])\n",
    "                w -= gradw * learning_rate\n",
    "                b -= gradb * learning_rate\n",
    "\n",
    "        return w, b\n",
    "\n"
   ]
  },
  {
   "cell_type": "code",
   "execution_count": 451,
   "metadata": {},
   "outputs": [],
   "source": [
    "w, b = optimize_sgd(\n",
    "    np.random.rand(28**2),\n",
    "    np.random.rand(),\n",
    "    training_data[:10_000],\n",
    "    maxiter=10_000\n",
    ")"
   ]
  },
  {
   "cell_type": "code",
   "execution_count": 452,
   "metadata": {},
   "outputs": [
    {
     "data": {
      "text/plain": [
       "0.3250999999999805"
      ]
     },
     "execution_count": 452,
     "metadata": {},
     "output_type": "execute_result"
    }
   ],
   "source": [
    "test_params(w, b, training_data[:10_000])"
   ]
  },
  {
   "attachments": {},
   "cell_type": "markdown",
   "metadata": {},
   "source": [
    "Écrivez la fonction `optimize_sgdm(w,b,training_data,batch_size=100,rate=5e-4,maxiter=40,info=1)`, la version mini-batch de optimize_sgd."
   ]
  },
  {
   "cell_type": "code",
   "execution_count": 455,
   "metadata": {},
   "outputs": [],
   "source": [
    "def optimize_sgdm(w : np.ndarray,\n",
    "                  b : float,\n",
    "                  training_data,\n",
    "                  batch_size : int =100,\n",
    "                  rate : float =5e-4,\n",
    "                  maxiter: int = 40,\n",
    "                  info : float=1):\n",
    "    \n",
    "    if (batch_size > len(training_data)):\n",
    "          raise ValueError(\"batch_size cannot be greater than the size of training_data\")\n",
    "    n_iter = 0\n",
    "    cost, gradb, gradw = propagate(w, b, training_data)\n",
    "\n",
    "    while ((max(np.linalg.norm(gradw, np.inf), abs(gradb)) > 1e-6) &\n",
    "           (n_iter < maxiter)):\n",
    "\n",
    "\n",
    "            n_iter += 1 \n",
    "\n",
    "            i = np.random.randint(0,len(training_data) - batch_size - 1 )\n",
    "\n",
    "            new_cost, gradb, gradw = propagate(w,\n",
    "                                            b,\n",
    "                                            training_data[i:i+batch_size])\n",
    "            w -= gradw * rate\n",
    "            b -= gradb * rate\n",
    "\n",
    "    return w, b"
   ]
  },
  {
   "cell_type": "code",
   "execution_count": 456,
   "metadata": {},
   "outputs": [],
   "source": [
    "w,b = optimize_sgdm(np.random.rand(28**2),\n",
    "                    np.random.rand(),\n",
    "                    training_data[:10_000],\n",
    "                    maxiter=10_000,\n",
    "                    info = 1e-6)"
   ]
  },
  {
   "cell_type": "code",
   "execution_count": 457,
   "metadata": {},
   "outputs": [
    {
     "data": {
      "text/plain": [
       "0.2453999999999893"
      ]
     },
     "execution_count": 457,
     "metadata": {},
     "output_type": "execute_result"
    }
   ],
   "source": [
    "test_params(w,b, training_data[:10_000])"
   ]
  },
  {
   "attachments": {},
   "cell_type": "markdown",
   "metadata": {},
   "source": [
    "**Question 11** Implémentez `def optimize_sgd_moment(w,b,training_data,rate=1e-3,mu=0.95,maxiter=40,info=1)`.\n"
   ]
  },
  {
   "cell_type": "code",
   "execution_count": 496,
   "metadata": {},
   "outputs": [],
   "source": [
    "def optimize_sgd_moment(w : np.ndarray ,\n",
    "                        b: float,\n",
    "                        training_data,\n",
    "                        rate : float = 1e-3,\n",
    "                        mu: float = 0.95,\n",
    "                        maxiter: int = 40,\n",
    "                        info: float = 1e-6):\n",
    "    np.random.shuffle(training_data)\n",
    "    n_iter = 0\n",
    "    cost, gradb, gradw = propagate(w, b, training_data)\n",
    "\n",
    "    v = np.zeros_like(w)\n",
    "\n",
    "    while ((max(np.linalg.norm(gradw, np.inf), abs(gradb)) > info) &\n",
    "           (n_iter < maxiter)):\n",
    "\n",
    "        n_iter += 1 \n",
    "\n",
    "        i = np.random.randint(0,len(training_data) - 1 )\n",
    "\n",
    "        new_cost, gradb, gradw = propagate(w,\n",
    "                                            b,\n",
    "                                            training_data[i:i+1])\n",
    "        v = mu*v + gradw*rate\n",
    "        \n",
    "        w -= v\n",
    "        b -= gradb * rate\n",
    "\n",
    "    return w, b"
   ]
  },
  {
   "cell_type": "code",
   "execution_count": 534,
   "metadata": {},
   "outputs": [],
   "source": [
    "w,b = optimize_sgd_moment(np.random.rand(28**2),\n",
    "                          np.random.rand(),\n",
    "                          training_data[:10_000],\n",
    "                          maxiter=10_000,\n",
    "                          mu = 0.8,\n",
    "                          info = 1e-6)"
   ]
  },
  {
   "cell_type": "code",
   "execution_count": 535,
   "metadata": {},
   "outputs": [
    {
     "data": {
      "text/plain": [
       "0.2970999999999836"
      ]
     },
     "execution_count": 535,
     "metadata": {},
     "output_type": "execute_result"
    }
   ],
   "source": [
    "test_params(w,b, training_data[:10_000])"
   ]
  },
  {
   "attachments": {},
   "cell_type": "markdown",
   "metadata": {},
   "source": [
    "## Adam Optimizer"
   ]
  },
  {
   "attachments": {},
   "cell_type": "markdown",
   "metadata": {},
   "source": [
    "**Question 13.** Implémentez la descente de gradient stochastique avec Adam `def optimize_sgd_adam(w,b,training_data,rate=1e-3,beta1=0.9,beta2=0.999,epsilon=1e-8,maxiter=10,info=1)`. "
   ]
  },
  {
   "cell_type": "code",
   "execution_count": 566,
   "metadata": {},
   "outputs": [],
   "source": [
    "def optimize_sgd_adam(w: np.ndarray,\n",
    "                      b: float,\n",
    "                      training_data,\n",
    "                      rate: float =1e-3,\n",
    "                      beta1: float =0.9,\n",
    "                      beta2 : float =0.999,\n",
    "                      epsilon: float =1e-8,\n",
    "                      maxiter : int=10,\n",
    "                      info : float =1):\n",
    "    \n",
    "    np.random.shuffle(training_data)\n",
    "    n_iter = 0\n",
    "    cost, gradb, gradw = propagate(w, b, training_data)\n",
    "\n",
    "    v = np.zeros_like(w)\n",
    "    m = np.zeros_like(w)\n",
    "\n",
    "    while ((max(np.linalg.norm(gradw, np.inf), abs(gradb)) > info) &\n",
    "           (n_iter < maxiter)):\n",
    "\n",
    "        n_iter += 1 \n",
    "\n",
    "        i = np.random.randint(0,len(training_data) - 1 )\n",
    "\n",
    "        new_cost, gradb, gradw = propagate(w,\n",
    "                                            b,\n",
    "                                            training_data[i:i+1])\n",
    "        \n",
    "        m = beta1* m + (1 - beta1) * gradw\n",
    "        v = beta2*v + (1 - beta2) * gradw**2\n",
    "\n",
    "        m_hat = m/(1 - beta1 ** n_iter)\n",
    "        v_hat = v/(1- beta2 ** n_iter)\n",
    "        \n",
    "        w -= rate * m_hat/(np.sqrt(v_hat) + epsilon)\n",
    "        b -= gradb * rate\n",
    "\n",
    "    return w, b"
   ]
  },
  {
   "cell_type": "code",
   "execution_count": 603,
   "metadata": {},
   "outputs": [],
   "source": [
    "w,b = optimize_sgd_adam(np.random.rand(28**2),\n",
    "                        np.random.rand(),\n",
    "                        training_data[:10_000],\n",
    "                        maxiter=10_000,\n",
    "                        # beta1=0.99999,\n",
    "                        # beta2=0.1,\n",
    "                        rate=4e-3,\n",
    "                        info = 1e-6)"
   ]
  },
  {
   "cell_type": "code",
   "execution_count": 604,
   "metadata": {},
   "outputs": [
    {
     "data": {
      "text/plain": [
       "0.2725999999999863"
      ]
     },
     "execution_count": 604,
     "metadata": {},
     "output_type": "execute_result"
    }
   ],
   "source": [
    "test_params(w,b, training_data[:10_000])"
   ]
  }
 ],
 "metadata": {
  "kernelspec": {
   "display_name": "base",
   "language": "python",
   "name": "python3"
  },
  "language_info": {
   "codemirror_mode": {
    "name": "ipython",
    "version": 3
   },
   "file_extension": ".py",
   "mimetype": "text/x-python",
   "name": "python",
   "nbconvert_exporter": "python",
   "pygments_lexer": "ipython3",
   "version": "3.10.9"
  },
  "orig_nbformat": 4
 },
 "nbformat": 4,
 "nbformat_minor": 2
}
